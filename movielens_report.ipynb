{
 "cells": [
  {
   "cell_type": "markdown",
   "metadata": {},
   "source": [
    "# Movie Lens Analizer\n",
    "\n",
    "В этом проекте мы создадим классы на Python для чтения, обработки и анализа данных из датасета `MovieLens` (movies, ratings, tags, links). Будем использовать уменьшенную версию датасета (ml_latest_small), которая содержит 100836 рейтингов, 3683 тэгов и 9742 фильмов. При чтение файлов датасета берем в обработку только первые 1000 записей.\n",
    "\n",
    "> Датасет MovieLens — это синтетический набор данных, состоящий из 20 миллионов реальных оценок из ML-20M, распространяемых в поддержку [MLPerf](https://www.mlperf.org/) (Machine Learning Performance Benchmark), независимого набора бенчмарков, разработанного для оценки производительности и эффективности аппаратного и программного обеспечения. Датасет MovieLens содержит выраженные предпочтения людей к фильмам и может быть использован для построения рекомендательных систем."
   ]
  },
  {
   "cell_type": "markdown",
   "metadata": {},
   "source": [
    "## Класс Movies\n",
    "\n",
    "Класс `Movies()` содержит в себе четыре метода для работы с `movies.csv`: `dist_by_release()`, `dist_by_genres()`, `most_genres()` и `most_genres_by_years()`. Благодаря этим методам мы можем извлечь информацию о том, в каком году произвели больше всего фильмов, какие жанры самые популярные и получить список произведений, которые подходят под наибольшее число жанров.\n",
    "\n",
    "Давайте попробуем выяснить, растет ли количество производимых фильмов от года к году, какие жанры наиболее популярны, и есть ли строгая типизация в кинематографе по жанрам, или большинство фильмов представляют собой смесь из разных категорий кино.\n",
    "\n",
    "### dist_by_release()\n",
    "\n",
    "Метод возвращает упорядоченный словарь, где ключи — это годы, а значения — это количества выпущенных фильмов. Элементы словаря отсортированы в порядке убывания по значению."
   ]
  },
  {
   "cell_type": "code",
   "execution_count": 1,
   "metadata": {},
   "outputs": [
    {
     "name": "stdout",
     "output_type": "stream",
     "text": [
      "CPU times: user 2 μs, sys: 0 ns, total: 2 μs\n",
      "Wall time: 4.53 μs\n",
      "OrderedDict({1995: 224, 1994: 184, 1996: 181, 1993: 101, 1992: 23, 1990: 15, 1991: 15, 1989: 14, 1986: 9, 1982: 8, 1940: 8, 1957: 8, 1987: 8, 1980: 8, 1981: 7, 1988: 7, 1979: 7, 1955: 6, 1959: 6, 1968: 6, 1997: 6, 1939: 6, 1985: 6, 1967: 5, 1965: 5, 1951: 5, 1958: 5, 1944: 5, 1941: 5, 1975: 5, 1971: 5, 1984: 5, 1964: 4, 1973: 4, 1954: 4, 1934: 4, 1960: 4, 1963: 4, 1950: 4, 1974: 4, 1983: 4, 1977: 3, 1937: 3, 1972: 3, 1952: 3, 1961: 3, 1953: 3, 1946: 3, 1938: 3, 1956: 3, 1962: 3, 1976: 2, 1969: 2, 1970: 2, 1942: 2, 1945: 2, 1947: 2, 1935: 2, 1936: 2, 1949: 2, 1978: 2, 1943: 1, 1932: 1, 1966: 1, 1948: 1, 1933: 1, 1931: 1})\n"
     ]
    }
   ],
   "source": [
    "%time\n",
    "from movielens_analysis import Movies\n",
    "\n",
    "movies = Movies(\"./ml_latest_small/movies.csv\")\n",
    "result = movies.dist_by_release()\n",
    "\n",
    "print(result)"
   ]
  },
  {
   "cell_type": "markdown",
   "metadata": {},
   "source": [
    "Кажется, от года к году количество производимых фильмов только растет... Что ж, давайте продолжим наше исследование.\n",
    "\n",
    "### dist_by_genres()\n",
    "\n",
    "Метод возвращает словарь, где ключи — жанры, а значения — количества. Элементы словаря отсортированы в порядке убывания по значению."
   ]
  },
  {
   "cell_type": "code",
   "execution_count": 2,
   "metadata": {},
   "outputs": [
    {
     "name": "stdout",
     "output_type": "stream",
     "text": [
      "CPU times: user 2 μs, sys: 0 ns, total: 2 μs\n",
      "Wall time: 3.58 μs\n",
      "{'Drama': 507, 'Comedy': 365, 'Romance': 208, 'Thriller': 179, 'Action': 158, 'Adventure': 126, 'Crime': 122, 'Children': 100, 'Fantasy': 69, 'Sci-Fi': 69, 'Mystery': 58, 'Musical': 53, 'Horror': 51, 'War': 48, 'Animation': 37, 'Documentary': 25, 'Western': 23, 'Film-Noir': 18, 'IMAX': 3}\n"
     ]
    }
   ],
   "source": [
    "%time\n",
    "from movielens_analysis import Movies\n",
    "\n",
    "movies = Movies(\"./ml_latest_small/movies.csv\")\n",
    "result = movies.dist_by_genres()\n",
    "\n",
    "print(result)"
   ]
  },
  {
   "cell_type": "markdown",
   "metadata": {},
   "source": [
    "Как мы видим, самый популярный жанр - драма, на втором месте, с огромным отрывом идет - комедия. А что насчет категоризации кино?\n",
    "\n",
    "### most_genres()\n",
    "\n",
    "Метод возвращает словарь с фильмами с наибольшим количеством жанров, где ключи — названия фильмов, а значения — количество жанров. Метод принимает целое число, которое указывает, сколько фильмов нужно вернуть. Элементы словаря отсортированы в порядке убывания по значению."
   ]
  },
  {
   "cell_type": "code",
   "execution_count": 3,
   "metadata": {},
   "outputs": [
    {
     "name": "stdout",
     "output_type": "stream",
     "text": [
      "CPU times: user 2 μs, sys: 1e+03 ns, total: 3 μs\n",
      "Wall time: 3.34 μs\n",
      "{'Toy Story (1995)': 5, 'Money Train (1995)': 5, 'Copycat (1995)': 5, '\"City of Lost Children, The (Cité des enfants perdus, La) (1995)\"': 5, 'Pocahontas (1995)': 5, 'From Dusk Till Dawn (1996)': 4, '\"Crossing Guard, The (1995)\"': 4, 'Bottle Rocket (1996)': 4, 'Muppet Treasure Island (1996)': 4, 'Rumble in the Bronx (Hont faan kui) (1995)': 4, 'Jumanji (1995)': 3, 'Waiting to Exhale (1995)': 3, 'Heat (1995)': 3, 'GoldenEye (1995)': 3, '\"American President, The (1995)\"': 3, 'Balto (1995)': 3, 'Cutthroat Island (1995)': 3, 'Get Shorty (1995)': 3, 'Assassins (1995)': 3, 'Twelve Monkeys (a.k.a. 12 Monkeys) (1995)': 3, 'Dead Presidents (1995)': 3, 'Mortal Kombat (1995)': 3, 'To Die For (1995)': 3, '\"Usual Suspects, The (1995)\"': 3, 'Mighty Aphrodite (1995)': 3, '\"Postman, The (Postino, Il) (1994)\"': 3, '\"Indian in the Cupboard, The (1995)\"': 3, 'Lawnmower Man 2: Beyond Cyberspace (1996)': 3, 'Screamers (1995)': 3, \"Things to Do in Denver When You're Dead (1995)\": 3, 'White Squall (1996)': 3, 'Mary Reilly (1996)': 3, 'Vampire in Brooklyn (1995)': 3, 'Beautiful Girls (1996)': 3, 'Broken Arrow (1996)': 3, 'Unforgettable (1996)': 3, 'Braveheart (1995)': 3, 'Taxi Driver (1976)': 3, 'Grumpier Old Men (1995)': 2, 'Sabrina (1995)': 2, 'Tom and Huck (1995)': 2, 'Dracula: Dead and Loving It (1995)': 2, 'Casino (1995)': 2, 'Sense and Sensibility (1995)': 2, 'Powder (1995)': 2, 'Leaving Las Vegas (1995)': 2, 'Now and Then (1995)': 2, 'Persuasion (1995)': 2, 'Shanghai Triad (Yao a yao yao dao waipo qiao) (1995)': 2, 'Babe (1995)': 2, 'Dead Man Walking (1995)': 2, 'It Takes Two (1995)': 2, 'Clueless (1995)': 2, 'Richard III (1995)': 2, 'How to Make an American Quilt (1995)': 2, 'Seven (a.k.a. Se7en) (1995)': 2, 'When Night Is Falling (1995)': 2, 'Lamerica (1994)': 2, '\"Big Green, The (1995)\"': 2, 'Eye for an Eye (1996)': 2, \"Don't Be a Menace to South Central While Drinking Your Juice in the Hood (1996)\": 2, 'Two if by Sea (1996)': 2, 'French Twist (Gazon maudit) (1995)': 2, 'Kicking and Screaming (1995)': 2, '\"Misérables, Les (1995)\"': 2, 'Bed of Roses (1996)': 2, 'Big Bully (1996)': 2, '\"Juror, The (1996)\"': 2, '\"White Balloon, The (Badkonake sefid) (1995)\"': 2, \"Antonia's Line (Antonia) (1995)\": 2, 'Once Upon a Time... When We Were Colored (1995)': 2, 'Angels and Insects (1995)': 2, 'Dunston Checks In (1996)': 2, 'Nick of Time (1995)': 2, 'In the Bleak Midwinter (1995)': 2, '\"Hate (Haine, La) (1995)\"': 2, 'City Hall (1996)': 2, '\"Bridges of Madison County, The (1995)\"': 2, 'Nobody Loves Me (Keiner liebt mich) (1994)': 2, 'Father of the Bride Part II (1995)': 1, 'Sudden Death (1995)': 1, 'Nixon (1995)': 1, 'Four Rooms (1995)': 1, 'Ace Ventura: When Nature Calls (1995)': 1, 'Othello (1995)': 1, 'Dangerous Minds (1995)': 1, '\"Cry, the Beloved Country (1995)\"': 1, 'Restoration (1995)': 1, 'Georgia (1995)': 1, 'Home for the Holidays (1995)': 1, \"Mr. Holland's Opus (1995)\": 1, 'Bio-Dome (1996)': 1, 'Friday (1995)': 1, 'Fair Game (1995)': 1, 'Nico Icon (1995)': 1, 'Black Sheep (1996)': 1, 'Heidi Fleiss: Hollywood Madam (1995)': 1, 'Mr. Wrong (1996)': 1, 'Happy Gilmore (1996)': 1, 'Catwalk (1996)': 1}\n"
     ]
    }
   ],
   "source": [
    "%time\n",
    "from movielens_analysis import Movies\n",
    "\n",
    "movies = Movies(\"./ml_latest_small/movies.csv\")\n",
    "result = movies.most_genres(100)\n",
    "\n",
    "print(result)"
   ]
  },
  {
   "cell_type": "markdown",
   "metadata": {},
   "source": [
    "Судя по всему, большинство фильмов строго делятся по жанрам...\n",
    "\n",
    "#### most_genres_by_years()\n",
    "\n",
    "Этот метод возвращает словарь, в котором ключами являются годы, а значениями - самый популярный жанр в этот временной отрезок. Давайте попробуем понять, менялись ли вкусовые предпочтения людей по жанрам от года к году."
   ]
  },
  {
   "cell_type": "code",
   "execution_count": 4,
   "metadata": {},
   "outputs": [
    {
     "name": "stdout",
     "output_type": "stream",
     "text": [
      "CPU times: user 2 μs, sys: 0 ns, total: 2 μs\n",
      "Wall time: 4.05 μs\n",
      "{1931: 'Crime', 1932: 'Romance', 1933: 'Comedy', 1934: 'Comedy', 1935: 'Comedy', 1936: 'Comedy', 1937: 'Drama', 1938: 'Romance', 1939: 'Drama', 1940: 'Drama', 1941: 'Drama', 1942: 'Drama', 1943: 'Adventure', 1944: 'Drama', 1945: 'Mystery', 1946: 'Film-Noir', 1947: 'Drama', 1948: 'Action', 1949: 'Musical', 1950: 'Drama', 1951: 'Musical', 1952: 'Romance', 1953: 'Comedy', 1954: 'Mystery', 1955: 'Drama', 1956: 'Drama', 1957: 'Drama', 1958: 'Drama', 1959: 'Drama', 1960: 'Comedy', 1961: 'Drama', 1962: 'Drama', 1963: 'Fantasy', 1964: 'Musical', 1965: 'Drama', 1966: 'Action', 1967: 'Drama', 1968: 'Sci-Fi', 1969: 'Adventure', 1970: 'Animation', 1971: 'Comedy', 1972: 'Drama', 1973: 'Comedy', 1974: 'Comedy', 1975: 'Comedy', 1976: 'Drama', 1977: 'Adventure', 1978: 'Comedy', 1979: 'Drama', 1980: 'Horror', 1981: 'Action', 1982: 'Drama', 1983: 'Action', 1984: 'Drama', 1985: 'Comedy', 1986: 'Drama', 1987: 'Drama', 1988: 'Adventure', 1989: 'Drama', 1990: 'Drama', 1991: 'Drama', 1992: 'Drama', 1993: 'Drama', 1994: 'Drama', 1995: 'Drama', 1996: 'Drama', 1997: 'Drama'}\n"
     ]
    }
   ],
   "source": [
    "%time\n",
    "from movielens_analysis import Movies\n",
    "\n",
    "movies = Movies(\"./ml_latest_small/movies.csv\")\n",
    "result = movies.most_genres_by_years()\n",
    "\n",
    "print(result)"
   ]
  },
  {
   "cell_type": "markdown",
   "metadata": {},
   "source": [
    "Судя по тому, что мы видим, на заре кинематографа популярными были, в основном, комедии. Но довольно быстро все поняли, что драма, как жанр, гораздо более востребован. Видно, что ближе к современности все чаще снимают драматические фильмы, хотя в некоторые годы бывает, что пальму первенства забирает и какой-то иной жанр.\n",
    "\n",
    "## Класс Ratings\n",
    "\n",
    "Класс `Ratings()` создан для работы с файлом ratings.csv из датасета `MovieLens`. Он содержит в себе вложенные классы `Movies()` и `Users()`.\n",
    "\n",
    "Работая с этим классом, мы попытаемся ответить на несколько вопросов: каково среднее качество выпускаемых фильмов: как много среди них успешных, и как много неудачных? Еще выделим десятку лучших фильмов по рейтингу пользователей, десятку самых спорных. Также мы попытаемся понять, насколько этот рейтинг репрезентативен: как много пользователей выставляли по нему оценки, и какие средние оценки они склонны ставить.\n",
    "\n",
    "### Вложенный класс Movies\n",
    "\n",
    "Вложенный класс внутри `Ratings()`, при создании принимает в качестве аргумента ссылку на родительский класс, чтобы иметь доступ к атрибутам класса-родителя.\n",
    "\n",
    "#### dist_by_year()\n",
    "\n",
    "Метод возвращает словарь, где ключи — это годы, а значения — это количества выпущенных фильмов. Элементы словаря отсортированы в порядке возрастания по ключам."
   ]
  },
  {
   "cell_type": "code",
   "execution_count": 7,
   "metadata": {},
   "outputs": [
    {
     "name": "stdout",
     "output_type": "stream",
     "text": [
      "CPU times: user 2 μs, sys: 0 ns, total: 2 μs\n",
      "Wall time: 4.29 μs\n",
      "{1996: 358, 1999: 82, 2000: 296, 2001: 70, 2005: 121, 2006: 4, 2007: 1, 2011: 39, 2015: 29}\n"
     ]
    }
   ],
   "source": [
    "%time\n",
    "from movielens_analysis import Ratings\n",
    "\n",
    "ratings = Ratings(\"./ml_latest_small/ratings.csv\")\n",
    "result = ratings.inner_movies.dist_by_year()\n",
    "\n",
    "print(result)"
   ]
  },
  {
   "cell_type": "markdown",
   "metadata": {},
   "source": [
    "#### dist_by_rating()\n",
    "\n",
    "Метод возвращает словарь, где ключи — рейтинги, а значения — количество фильмов, соответствующих этому рейтингу. Сортировка по возрастанию ключа."
   ]
  },
  {
   "cell_type": "code",
   "execution_count": 8,
   "metadata": {},
   "outputs": [
    {
     "name": "stdout",
     "output_type": "stream",
     "text": [
      "CPU times: user 1 μs, sys: 0 ns, total: 1 μs\n",
      "Wall time: 3.34 μs\n",
      "{0.5: 24, 1.0: 39, 1.5: 11, 2.0: 57, 2.5: 7, 3.0: 253, 3.5: 17, 4.0: 292, 4.5: 33, 5.0: 267}\n"
     ]
    }
   ],
   "source": [
    "%time\n",
    "from movielens_analysis import Ratings\n",
    "\n",
    "ratings = Ratings(\"./ml_latest_small/ratings.csv\")\n",
    "result = ratings.inner_movies.dist_by_rating()\n",
    "\n",
    "print(result)"
   ]
  },
  {
   "cell_type": "markdown",
   "metadata": {},
   "source": [
    "Как мы видим, большинство фильмов имеют рейтинги от 3 и выше. То есть, большинство выпускаемых фильмов обычно нравятся зрителям. Но было бы неплохо понять, кто эти зрители... Это мы выясним во вложенном классе Users()\n",
    "\n",
    "#### top_by_num_of_ratings()\n",
    "\n",
    "Метод возвращает словарь фильмов с наибольшим количеством оценок. Ключами являются названия фильмов, а значениями — количество оценок. Сортируем по значениям в порядке убывания."
   ]
  },
  {
   "cell_type": "code",
   "execution_count": 11,
   "metadata": {},
   "outputs": [
    {
     "name": "stdout",
     "output_type": "stream",
     "text": [
      "CPU times: user 1 μs, sys: 1 μs, total: 2 μs\n",
      "Wall time: 3.58 μs\n",
      "{'\"Usual Suspects, The (1995)\"': 4, 'Pulp Fiction (1994)': 4, '\"Fugitive, The (1993)\"': 4, \"Schindler's List (1993)\": 4, 'Aladdin (1992)': 4, 'Batman (1989)': 4, '\"Silence of the Lambs, The (1991)\"': 4, 'Beauty and the Beast (1991)': 4, 'Fargo (1996)': 4, 'Toy Story (1995)': 3, 'Get Shorty (1995)': 3, 'Seven (a.k.a. Se7en) (1995)': 3, '\"Postman, The (Postino, Il) (1994)\"': 3, 'Braveheart (1995)': 3, 'Apollo 13 (1995)': 3, 'Star Wars: Episode IV - A New Hope (1977)': 3, 'Like Water for Chocolate (Como agua para chocolate) (1992)': 3, 'Stargate (1994)': 3, '\"Shawshank Redemption, The (1994)\"': 3, 'Tommy Boy (1995)': 3, 'Clear and Present Danger (1994)': 3, 'Forrest Gump (1994)': 3, 'Four Weddings and a Funeral (1994)': 3, '\"Mask, The (1994)\"': 3, 'True Lies (1994)': 3, 'In the Name of the Father (1993)': 3, 'Jurassic Park (1993)': 3, 'Tombstone (1993)': 3, 'Terminator 2: Judgment Day (1991)': 3, 'Dances with Wolves (1990)': 3, 'Pinocchio (1940)': 3, 'Mission: Impossible (1996)': 3, 'Independence Day (a.k.a. ID4) (1996)': 3, 'Willy Wonka & the Chocolate Factory (1971)': 3, 'Star Wars: Episode V - The Empire Strikes Back (1980)': 3, 'Psycho (1960)': 3, 'Grumpier Old Men (1995)': 2, 'Heat (1995)': 2, 'Dangerous Minds (1995)': 2, 'Twelve Monkeys (a.k.a. 12 Monkeys) (1995)': 2, 'Babe (1995)': 2, 'Dead Man Walking (1995)': 2, 'To Die For (1995)': 2, '\"NeverEnding Story III, The (1994)\"': 2, 'Rob Roy (1995)': 2, 'Batman Forever (1995)': 2, 'Desperado (1995)': 2, 'Die Hard: With a Vengeance (1995)': 2, 'Jeffrey (1995)': 2, 'Billy Madison (1995)': 2, 'Circle of Friends (1995)': 2, 'Dumb & Dumber (Dumb and Dumber) (1994)': 2, 'Eat Drink Man Woman (Yin shi nan nu) (1994)': 2, 'Ed Wood (1994)': 2, 'Heavenly Creatures (1994)': 2, 'Interview with the Vampire: The Vampire Chronicles (1994)': 2, 'Little Women (1994)': 2, 'Legends of the Fall (1994)': 2, \"Muriel's Wedding (1994)\": 2, 'Ace Ventura: Pet Detective (1994)': 2, 'Bullets Over Broadway (1994)': 2, '\"Corrina, Corrina (1994)\"': 2, '\"Jungle Book, The (1994)\"': 2, '\"Lion King, The (1994)\"': 2, 'Maverick (1994)': 2, 'Addams Family Values (1993)': 2, 'Dazed and Confused (1993)': 2, 'With Honors (1994)': 2, 'Hot Shots! Part Deux (1993)': 2, 'In the Line of Fire (1993)': 2, 'Mrs. Doubtfire (1993)': 2, '\"Piano, The (1993)\"': 2, '\"Remains of the Day, The (1993)\"': 2, '\"Secret Garden, The (1993)\"': 2, 'Sleepless in Seattle (1993)': 2, 'So I Married an Axe Murderer (1993)': 2, '\"Three Musketeers, The (1993)\"': 2, 'Ghost (1990)': 2, 'Snow White and the Seven Dwarfs (1937)': 2, 'Pretty Woman (1990)': 2, 'Courage Under Fire (1996)': 2, '\"Truth About Cats & Dogs, The (1996)\"': 2, 'Twister (1996)': 2, 'My Fair Lady (1964)': 2, '\"Wizard of Oz, The (1939)\"': 2, 'Gone with the Wind (1939)': 2, '\"Sword in the Stone, The (1963)\"': 2, 'That Thing You Do! (1996)': 2, '\"Ghost and the Darkness, The (1996)\"': 2, 'Swingers (1996)': 2, \"Monty Python's Life of Brian (1979)\": 2, 'Bonnie and Clyde (1967)': 2, 'Monty Python and the Holy Grail (1975)': 2, '\"English Patient, The (1996)\"': 2, '\"Princess Bride, The (1987)\"': 2, 'Raiders of the Lost Ark (Indiana Jones and the Raiders of the Lost Ark) (1981)': 2, 'Apocalypse Now (1979)': 2, 'Star Wars: Episode VI - Return of the Jedi (1983)': 2, 'Goodfellas (1990)': 2, '\"Blues Brothers, The (1980)\"': 2}\n"
     ]
    }
   ],
   "source": [
    "%time\n",
    "from movielens_analysis import Ratings\n",
    "\n",
    "ratings = Ratings(\"./ml_latest_small/ratings.csv\")\n",
    "result = ratings.inner_movies.top_by_num_of_ratings(100)\n",
    "\n",
    "print(result)"
   ]
  },
  {
   "cell_type": "markdown",
   "metadata": {},
   "source": [
    "#### top_by_ratings()\n",
    "\n",
    "Метод возвращает словарь фильмов с наибольшим средним или медианным значением рейтингов. Ключами являются названия фильмов, а значениями — средне-арифметическое или медиана из оценок. Сортируем по убыванию значений, округляем их до двух десятичных знаков.\n",
    "\n",
    "##### __Тест со средними значением__\n",
    "\n",
    "Если не передавать параметр, метод по умолчанию рассчитает средне-арифметическое значение оценок. Можно также прямо передать в параметры значение `metric=\"average\"`"
   ]
  },
  {
   "cell_type": "code",
   "execution_count": null,
   "metadata": {},
   "outputs": [
    {
     "name": "stdout",
     "output_type": "stream",
     "text": [
      "CPU times: user 2 μs, sys: 0 ns, total: 2 μs\n",
      "Wall time: 3.34 μs\n",
      "{'Father of the Bride Part II (1995)': 5.0, 'Copycat (1995)': 5.0, 'White Squall (1996)': 5.0, 'Bottle Rocket (1996)': 5.0, 'Flirting With Disaster (1996)': 5.0, 'Canadian Bacon (1995)': 5.0, 'Congo (1995)': 5.0, 'Crumb (1994)': 5.0, 'First Knight (1995)': 5.0, 'Living in Oblivion (1995)': 5.0, 'Before Sunrise (1995)': 5.0, 'Dolores Claiborne (1995)': 5.0, 'Houseguest (1994)': 5.0, 'Just Cause (1995)': 5.0, 'Star Wars: Episode IV - A New Hope (1977)': 5.0, '\"Little Princess, A (1995)\"': 5.0, 'Miracle on 34th Street (1994)': 5.0, 'Once Were Warriors (1994)': 5.0, '\"Secret of Roan Inish, The (1994)\"': 5.0, 'Shallow Grave (1994)': 5.0, \"What's Eating Gilbert Grape (1993)\": 5.0, '\"Client, The (1994)\"': 5.0, 'Speed (1994)': 5.0, \"City Slickers II: The Legend of Curly's Gold (1994)\": 5.0, 'Manhattan Murder Mystery (1993)': 5.0, 'Six Degrees of Separation (1993)': 5.0, '\"Aristocats, The (1970)\"': 5.0, 'James and the Giant Peach (1996)': 5.0, 'Oliver & Company (1988)': 5.0, '\"Hunchback of Notre Dame, The (1996)\"': 5.0, '\"First Wives Club, The (1996)\"': 5.0, 'Escape from L.A. (1996)': 5.0, '\"Philadelphia Story, The (1940)\"': 5.0, 'North by Northwest (1959)': 5.0, 'Some Like It Hot (1959)': 5.0, 'Casablanca (1942)': 5.0, '\"Wizard of Oz, The (1939)\"': 5.0, 'Citizen Kane (1941)': 5.0, 'Notorious (1946)': 5.0, '\"Adventures of Robin Hood, The (1938)\"': 5.0, 'Mr. Smith Goes to Washington (1939)': 5.0, 'Winnie the Pooh and the Blustery Day (1968)': 5.0, '\"Three Caballeros, The (1945)\"': 5.0, 'Dumbo (1941)': 5.0, 'Bedknobs and Broomsticks (1971)': 5.0, 'Alice in Wonderland (1951)': 5.0, 'Beautiful Thing (1996)': 5.0, '\"Ghost and the Darkness, The (1996)\"': 5.0, 'Sleeper (1973)': 5.0, \"Monty Python's Life of Brian (1979)\": 5.0, 'Dial M for Murder (1954)': 5.0, 'Reservoir Dogs (1992)': 5.0, 'Basic Instinct (1992)': 5.0, 'E.T. the Extra-Terrestrial (1982)': 5.0, 'Rebel Without a Cause (1955)': 5.0, 'Monty Python and the Holy Grail (1975)': 5.0, 'Strictly Ballroom (1992)': 5.0, '\"Princess Bride, The (1987)\"': 5.0, '12 Angry Men (1957)': 5.0, '\"Clockwork Orange, A (1971)\"': 5.0, 'Full Metal Jacket (1987)': 5.0, 'Henry V (1989)': 5.0, '\"Quiet Man, The (1952)\"': 5.0, '\"Terminator, The (1984)\"': 5.0, '\"Bridge on the River Kwai, The (1957)\"': 5.0, 'Duck Soup (1933)': 5.0, 'Back to the Future (1985)': 5.0, 'Young Frankenstein (1974)': 5.0, 'Fantasia (1940)': 5.0, 'High Noon (1952)': 5.0, 'Pink Floyd: The Wall (1982)': 5.0, '\"Fugitive, The (1993)\"': 4.75, '\"Blues Brothers, The (1980)\"': 4.75, 'Tommy Boy (1995)': 4.67, 'Forrest Gump (1994)': 4.67, 'In the Name of the Father (1993)': 4.67, 'Jurassic Park (1993)': 4.67, 'Dances with Wolves (1990)': 4.67, 'Star Wars: Episode V - The Empire Strikes Back (1980)': 4.67, 'Grumpier Old Men (1995)': 4.5, 'Dead Man Walking (1995)': 4.5, 'Rob Roy (1995)': 4.5, 'Billy Madison (1995)': 4.5, 'Eat Drink Man Woman (Yin shi nan nu) (1994)': 4.5, 'Maverick (1994)': 4.5, '\"Silence of the Lambs, The (1991)\"': 4.5, 'Snow White and the Seven Dwarfs (1937)': 4.5, '\"Sword in the Stone, The (1963)\"': 4.5, 'Star Wars: Episode VI - Return of the Jedi (1983)': 4.5, 'Goodfellas (1990)': 4.5, 'Indiana Jones and the Last Crusade (1989)': 4.5, 'Braveheart (1995)': 4.33, 'Pinocchio (1940)': 4.33, 'Highlander (1986)': 4.25, 'Toy Story (1995)': 4.17, 'Independence Day (a.k.a. ID4) (1996)': 4.17, 'Beauty and the Beast (1991)': 4.12, 'Jumanji (1995)': 4.0, 'Heat (1995)': 4.0, 'Sabrina (1995)': 4.0}\n"
     ]
    }
   ],
   "source": [
    "%time\n",
    "from movielens_analysis import Ratings\n",
    "\n",
    "ratings = Ratings(\"./ml_latest_small/ratings.csv\")\n",
    "result = ratings.inner_movies.top_by_ratings(100)\n",
    "\n",
    "print(result)"
   ]
  },
  {
   "cell_type": "markdown",
   "metadata": {},
   "source": [
    "Как мы видим, при рассчете рейтинга методом средне-арифметического ТОП-10 фильмов по версии пользователей выглядит так:\n",
    "\n",
    "* Father of the Bride Part II (1995)\n",
    "* Copycat (1995)\n",
    "* White Squall (1996)\n",
    "* Bottle Rocket (1996)\n",
    "* Flirting With Disaster (1996)\n",
    "* Canadian Bacon (1995)\n",
    "* Congo (1995)\n",
    "* Crumb (1994)\n",
    "* First Knight (1995)\n",
    "* Living in Oblivion (1995)\n",
    "\n",
    "Интересно, повторится ли эта картина, когда мы рассчитаем то же самое, но уже с медианными показателями.\n",
    "\n",
    "##### __Тест с медианными значениями__\n",
    "\n",
    "Чтобы получить словарь с медианными значениями, нужно передать соответствующий аргумент при вызове метода: `metric=\"mean\"`"
   ]
  },
  {
   "cell_type": "code",
   "execution_count": 12,
   "metadata": {},
   "outputs": [
    {
     "name": "stdout",
     "output_type": "stream",
     "text": [
      "CPU times: user 1 μs, sys: 0 ns, total: 1 μs\n",
      "Wall time: 3.34 μs\n",
      "{'Father of the Bride Part II (1995)': 5.0, 'Copycat (1995)': 5.0, 'White Squall (1996)': 5.0, 'Bottle Rocket (1996)': 5.0, 'Flirting With Disaster (1996)': 5.0, 'Canadian Bacon (1995)': 5.0, 'Congo (1995)': 5.0, 'Crumb (1994)': 5.0, 'First Knight (1995)': 5.0, 'Living in Oblivion (1995)': 5.0, 'Before Sunrise (1995)': 5.0, 'Dolores Claiborne (1995)': 5.0, 'Houseguest (1994)': 5.0, 'Just Cause (1995)': 5.0, 'Star Wars: Episode IV - A New Hope (1977)': 5.0, '\"Little Princess, A (1995)\"': 5.0, 'Miracle on 34th Street (1994)': 5.0, 'Once Were Warriors (1994)': 5.0, '\"Secret of Roan Inish, The (1994)\"': 5.0, 'Shallow Grave (1994)': 5.0, 'Tommy Boy (1995)': 5.0, \"What's Eating Gilbert Grape (1993)\": 5.0, '\"Client, The (1994)\"': 5.0, 'Forrest Gump (1994)': 5.0, 'Speed (1994)': 5.0, \"City Slickers II: The Legend of Curly's Gold (1994)\": 5.0, '\"Fugitive, The (1993)\"': 5.0, 'In the Name of the Father (1993)': 5.0, 'Jurassic Park (1993)': 5.0, 'Manhattan Murder Mystery (1993)': 5.0, 'Six Degrees of Separation (1993)': 5.0, 'Tombstone (1993)': 5.0, 'Dances with Wolves (1990)': 5.0, 'Pinocchio (1940)': 5.0, '\"Aristocats, The (1970)\"': 5.0, 'James and the Giant Peach (1996)': 5.0, 'Oliver & Company (1988)': 5.0, '\"Hunchback of Notre Dame, The (1996)\"': 5.0, '\"First Wives Club, The (1996)\"': 5.0, 'Escape from L.A. (1996)': 5.0, '\"Philadelphia Story, The (1940)\"': 5.0, 'North by Northwest (1959)': 5.0, 'Some Like It Hot (1959)': 5.0, 'Casablanca (1942)': 5.0, '\"Wizard of Oz, The (1939)\"': 5.0, 'Citizen Kane (1941)': 5.0, 'Notorious (1946)': 5.0, '\"Adventures of Robin Hood, The (1938)\"': 5.0, 'Mr. Smith Goes to Washington (1939)': 5.0, 'Winnie the Pooh and the Blustery Day (1968)': 5.0, '\"Three Caballeros, The (1945)\"': 5.0, 'Dumbo (1941)': 5.0, 'Bedknobs and Broomsticks (1971)': 5.0, 'Alice in Wonderland (1951)': 5.0, 'Beautiful Thing (1996)': 5.0, '\"Ghost and the Darkness, The (1996)\"': 5.0, 'Sleeper (1973)': 5.0, \"Monty Python's Life of Brian (1979)\": 5.0, 'Dial M for Murder (1954)': 5.0, 'Reservoir Dogs (1992)': 5.0, 'Basic Instinct (1992)': 5.0, 'E.T. the Extra-Terrestrial (1982)': 5.0, 'Rebel Without a Cause (1955)': 5.0, 'Monty Python and the Holy Grail (1975)': 5.0, 'Strictly Ballroom (1992)': 5.0, 'Star Wars: Episode V - The Empire Strikes Back (1980)': 5.0, '\"Princess Bride, The (1987)\"': 5.0, '12 Angry Men (1957)': 5.0, '\"Clockwork Orange, A (1971)\"': 5.0, 'Full Metal Jacket (1987)': 5.0, 'Henry V (1989)': 5.0, '\"Quiet Man, The (1952)\"': 5.0, '\"Terminator, The (1984)\"': 5.0, '\"Bridge on the River Kwai, The (1957)\"': 5.0, 'Duck Soup (1933)': 5.0, 'Back to the Future (1985)': 5.0, 'Young Frankenstein (1974)': 5.0, 'Fantasia (1940)': 5.0, 'High Noon (1952)': 5.0, 'Pink Floyd: The Wall (1982)': 5.0, '\"Blues Brothers, The (1980)\"': 4.75, 'Grumpier Old Men (1995)': 4.5, 'Dead Man Walking (1995)': 4.5, 'Rob Roy (1995)': 4.5, 'Billy Madison (1995)': 4.5, 'Eat Drink Man Woman (Yin shi nan nu) (1994)': 4.5, 'Maverick (1994)': 4.5, '\"Silence of the Lambs, The (1991)\"': 4.5, 'Snow White and the Seven Dwarfs (1937)': 4.5, 'Independence Day (a.k.a. ID4) (1996)': 4.5, '\"Sword in the Stone, The (1963)\"': 4.5, 'Star Wars: Episode VI - Return of the Jedi (1983)': 4.5, 'Goodfellas (1990)': 4.5, 'Indiana Jones and the Last Crusade (1989)': 4.5, '\"Usual Suspects, The (1995)\"': 4.25, 'Beauty and the Beast (1991)': 4.25, 'Highlander (1986)': 4.25, 'Toy Story (1995)': 4.0, 'Jumanji (1995)': 4.0, 'Heat (1995)': 4.0}\n"
     ]
    }
   ],
   "source": [
    "%time\n",
    "from movielens_analysis import Ratings\n",
    "\n",
    "ratings = Ratings(\"./ml_latest_small/ratings.csv\")\n",
    "result = ratings.inner_movies.top_by_ratings(100, metric=\"mean\")\n",
    "\n",
    "print(result)"
   ]
  },
  {
   "cell_type": "markdown",
   "metadata": {},
   "source": [
    "А вот и ТОП по результатам расчета медианного рейтинга:\n",
    "\n",
    "* Father of the Bride Part II (1995)\n",
    "* Copycat (1995)\n",
    "* White Squall (1996)\n",
    "* Bottle Rocket (1996)\n",
    "* Flirting With Disaster (1996)\n",
    "* Canadian Bacon (1995)\n",
    "* Congo (1995)\n",
    "* Crumb (1994)\n",
    "* First Knight (1995)\n",
    "* Living in Oblivion (1995)\n",
    "\n",
    "Как мы видим, фильмы абсолютно те же, то есть, методика расчета рейтинга не сильно влияет на определение фильмов в ТОПе. Теперь давайте посмотрим на ТОП-10 фильмов с неоднозначными оценками.\n",
    "\n",
    "#### top_controversial()\n",
    "\n",
    "Метод возвращает словарь самых противоречивых фильмов с наиболее высоким разбросом оценок. Ключами являются названия фильмов, а значениями — дисперсии. Сортировка по убыванию дисперсий, округленных до двух десятичных знаков."
   ]
  },
  {
   "cell_type": "code",
   "execution_count": 13,
   "metadata": {},
   "outputs": [
    {
     "name": "stdout",
     "output_type": "stream",
     "text": [
      "CPU times: user 2 μs, sys: 0 ns, total: 2 μs\n",
      "Wall time: 4.77 μs\n",
      "{'My Fair Lady (1964)': 10.12, 'Courage Under Fire (1996)': 6.12, \"Schindler's List (1993)\": 4.56, 'Circle of Friends (1995)': 4.5, 'Dazed and Confused (1993)': 4.5, 'Hot Shots! Part Deux (1993)': 4.5, 'Ghost (1990)': 4.5, '\"Usual Suspects, The (1995)\"': 3.23, 'Dangerous Minds (1995)': 3.12, 'Tombstone (1993)': 3.0, 'Pulp Fiction (1994)': 2.92, 'Seven (a.k.a. Se7en) (1995)': 2.33, 'Stargate (1994)': 2.33, 'Psycho (1960)': 2.33, 'Twelve Monkeys (a.k.a. 12 Monkeys) (1995)': 2.0, '\"NeverEnding Story III, The (1994)\"': 2.0, 'Desperado (1995)': 2.0, 'Dumb & Dumber (Dumb and Dumber) (1994)': 2.0, 'Ed Wood (1994)': 2.0, 'Heavenly Creatures (1994)': 2.0, 'Legends of the Fall (1994)': 2.0, \"Muriel's Wedding (1994)\": 2.0, '\"Jungle Book, The (1994)\"': 2.0, '\"Lion King, The (1994)\"': 2.0, 'With Honors (1994)': 2.0, 'Mrs. Doubtfire (1993)': 2.0, '\"Piano, The (1993)\"': 2.0, 'Sleepless in Seattle (1993)': 2.0, 'Twister (1996)': 2.0, 'Gone with the Wind (1939)': 2.0, 'Swingers (1996)': 2.0, 'Bonnie and Clyde (1967)': 2.0, 'Raiders of the Lost Ark (Indiana Jones and the Raiders of the Lost Ark) (1981)': 2.0, '\"Postman, The (Postino, Il) (1994)\"': 1.33, 'Like Water for Chocolate (Como agua para chocolate) (1992)': 1.33, '\"Shawshank Redemption, The (1994)\"': 1.33, 'Pinocchio (1940)': 1.33, 'Fargo (1996)': 1.33, 'Highlander (1986)': 1.12, 'Independence Day (a.k.a. ID4) (1996)': 1.08, 'Beauty and the Beast (1991)': 1.06, 'Get Shorty (1995)': 1.0, 'Clear and Present Danger (1994)': 1.0, 'True Lies (1994)': 1.0, 'Willy Wonka & the Chocolate Factory (1971)': 1.0, 'Aladdin (1992)': 0.67, 'Apollo 13 (1995)': 0.58, 'Grumpier Old Men (1995)': 0.5, 'Dead Man Walking (1995)': 0.5, 'Rob Roy (1995)': 0.5, 'Die Hard: With a Vengeance (1995)': 0.5, 'Billy Madison (1995)': 0.5, 'Eat Drink Man Woman (Yin shi nan nu) (1994)': 0.5, 'Bullets Over Broadway (1994)': 0.5, '\"Corrina, Corrina (1994)\"': 0.5, 'Maverick (1994)': 0.5, '\"Remains of the Day, The (1993)\"': 0.5, '\"Secret Garden, The (1993)\"': 0.5, 'So I Married an Axe Murderer (1993)': 0.5, '\"Three Musketeers, The (1993)\"': 0.5, 'Snow White and the Seven Dwarfs (1937)': 0.5, 'Pretty Woman (1990)': 0.5, '\"Sword in the Stone, The (1963)\"': 0.5, 'That Thing You Do! (1996)': 0.5, 'Star Wars: Episode VI - Return of the Jedi (1983)': 0.5, 'Goodfellas (1990)': 0.5, 'Indiana Jones and the Last Crusade (1989)': 0.5, 'Braveheart (1995)': 0.33, 'Tommy Boy (1995)': 0.33, 'Forrest Gump (1994)': 0.33, 'Four Weddings and a Funeral (1994)': 0.33, 'In the Name of the Father (1993)': 0.33, 'Jurassic Park (1993)': 0.33, 'Dances with Wolves (1990)': 0.33, '\"Silence of the Lambs, The (1991)\"': 0.33, 'Mission: Impossible (1996)': 0.33, 'Star Wars: Episode V - The Empire Strikes Back (1980)': 0.33, '\"Fugitive, The (1993)\"': 0.25, 'Batman (1989)': 0.25, '\"English Patient, The (1996)\"': 0.12, '\"Blues Brothers, The (1980)\"': 0.12, 'Toy Story (1995)': 0.08, 'Terminator 2: Judgment Day (1991)': 0.08, 'Jumanji (1995)': 0.0, 'Waiting to Exhale (1995)': 0.0, 'Father of the Bride Part II (1995)': 0.0, 'Heat (1995)': 0.0, 'Sabrina (1995)': 0.0, 'Tom and Huck (1995)': 0.0, 'GoldenEye (1995)': 0.0, '\"American President, The (1995)\"': 0.0, 'Balto (1995)': 0.0, 'Cutthroat Island (1995)': 0.0, 'Casino (1995)': 0.0, 'Sense and Sensibility (1995)': 0.0, 'Ace Ventura: When Nature Calls (1995)': 0.0, 'Copycat (1995)': 0.0, 'Powder (1995)': 0.0, 'Leaving Las Vegas (1995)': 0.0, 'Othello (1995)': 0.0}\n"
     ]
    }
   ],
   "source": [
    "%time\n",
    "from movielens_analysis import Ratings\n",
    "\n",
    "ratings = Ratings(\"./ml_latest_small/ratings.csv\")\n",
    "result = ratings.inner_movies.top_controversial(100)\n",
    "\n",
    "print(result)"
   ]
  },
  {
   "cell_type": "markdown",
   "metadata": {},
   "source": [
    "А вот и ТОП самых неоднозначных:\n",
    "\n",
    "* My Fair Lady (1964)\n",
    "* Courage Under Fire (1996)\n",
    "* Schindler's List (1993)\n",
    "* Circle of Friends (1995)\n",
    "* Dazed and Confused (1993)\n",
    "* Hot Shots! Part Deux (1993)\n",
    "* Ghost (1990)\n",
    "* Usual Suspects, The (1995)\n",
    "* Dangerous Minds (1995)\n",
    "* Tombstone (1993)\n",
    "\n",
    "Обратите внимание, ни одного фильма из списка с самым высоким рейтингом. Повидимому, если фильм по-настоящему любят, то любят единодушно.\n",
    "\n",
    "### Вложенный класс Users\n",
    "\n",
    "Класс `Users()`, созданный внутри класса `Ratings()` путем наследования вложенного в `Ratings()` класса `Movies()`.\n",
    "\n",
    "А вот теперь настало время выяснить, насколько репрезентативна выборка респондентов, расставлявших отзывы.\n",
    "\n",
    "#### dist_users_by_num_of_ratings()\n",
    "\n",
    "Возвращает распределение пользователей по количеству поставленных ими оценок. Ключ - ID пользователя, значение - количество поставленных оценок. Сортировка по значению: от большего к меньшему."
   ]
  },
  {
   "cell_type": "code",
   "execution_count": 14,
   "metadata": {},
   "outputs": [
    {
     "name": "stdout",
     "output_type": "stream",
     "text": [
      "CPU times: user 2 μs, sys: 0 ns, total: 2 μs\n",
      "Wall time: 3.34 μs\n",
      "{6: 314, 1: 232, 4: 216, 7: 126, 5: 44, 3: 39, 2: 29}\n"
     ]
    }
   ],
   "source": [
    "%time\n",
    "from movielens_analysis import Ratings\n",
    "\n",
    "ratings = Ratings(\"./ml_latest_small/ratings.csv\")\n",
    "users = ratings.Users(ratings)\n",
    "result = users.dist_users_by_num_of_ratings()\n",
    "\n",
    "print(result)"
   ]
  },
  {
   "cell_type": "markdown",
   "metadata": {},
   "source": [
    "Что ж, кажется, оценки оставляли всего 7 пользователей, причем, 43% из них оставили 76% оценок. Видимо, наша выборка не очень репрезентативна, и по ней нельзя делать далекоидущие выводы. Но мы изначально условились обрабатывать по 1000 первых записей, так что держим это ограничение в уме.\n",
    "\n",
    "#### dist_users_by_rating()\n",
    "\n",
    "Возвращает распределение пользователей по средним или медианным оценкам, сделанным ими. Ключ - ID пользователя, значение - количество поставленных оценок. Сортировка по значению: от большего к меньшему.\n",
    "\n",
    "##### __Тест со средними значением__\n",
    "\n",
    "Если не передавать параметр, метод по умолчанию рассчитает средне-арифметическое значение оценок. Можно также прямо передать в параметры значение `metric=\"average\"`"
   ]
  },
  {
   "cell_type": "code",
   "execution_count": 15,
   "metadata": {},
   "outputs": [
    {
     "name": "stdout",
     "output_type": "stream",
     "text": [
      "CPU times: user 2 μs, sys: 0 ns, total: 2 μs\n",
      "Wall time: 3.34 μs\n",
      "{1: 4.37, 2: 3.95, 5: 3.64, 4: 3.56, 6: 3.49, 7: 3.35, 3: 2.44}\n"
     ]
    }
   ],
   "source": [
    "%time\n",
    "from movielens_analysis import Ratings\n",
    "\n",
    "ratings = Ratings(\"./ml_latest_small/ratings.csv\")\n",
    "users = ratings.Users(ratings)\n",
    "result = users.dist_users_by_rating()\n",
    "\n",
    "print(result)"
   ]
  },
  {
   "cell_type": "markdown",
   "metadata": {},
   "source": [
    "##### __Тест с медианными значениями__\n",
    "\n",
    "Чтобы получить словарь с медианными значениями, нужно передать соответствующий аргумент при вызове метода: `metric=\"mean\"`"
   ]
  },
  {
   "cell_type": "code",
   "execution_count": 16,
   "metadata": {},
   "outputs": [
    {
     "name": "stdout",
     "output_type": "stream",
     "text": [
      "CPU times: user 2 μs, sys: 0 ns, total: 2 μs\n",
      "Wall time: 3.34 μs\n",
      "{1: 5.0, 2: 4.0, 4: 4.0, 5: 4.0, 7: 4.0, 6: 3.0, 3: 0.5}\n"
     ]
    }
   ],
   "source": [
    "%time\n",
    "from movielens_analysis import Ratings\n",
    "\n",
    "ratings = Ratings(\"./ml_latest_small/ratings.csv\")\n",
    "users = ratings.Users(ratings)\n",
    "result = users.dist_users_by_rating(metric=\"mean\")\n",
    "\n",
    "print(result)"
   ]
  },
  {
   "cell_type": "markdown",
   "metadata": {},
   "source": [
    "#### top_controversial_users()\n",
    "\n",
    "Возвращает первые N пользователей с самой большой дисперсией оценок. Ключ - ID пользователя, значение - количество поставленных оценок. Сортировка по значению: от большего к меньшему."
   ]
  },
  {
   "cell_type": "code",
   "execution_count": 17,
   "metadata": {},
   "outputs": [
    {
     "name": "stdout",
     "output_type": "stream",
     "text": [
      "CPU times: user 1 μs, sys: 0 ns, total: 1 μs\n",
      "Wall time: 3.34 μs\n",
      "{3: 4.37, 4: 1.73, 7: 1.67, 5: 0.98, 6: 0.72}\n"
     ]
    }
   ],
   "source": [
    "%time\n",
    "from movielens_analysis import Ratings\n",
    "\n",
    "ratings = Ratings(\"./ml_latest_small/ratings.csv\")\n",
    "users = ratings.Users(ratings)\n",
    "result = users.top_controversial_users(5)\n",
    "\n",
    "print(result)"
   ]
  },
  {
   "cell_type": "markdown",
   "metadata": {},
   "source": [
    "## Класс Tags\n",
    "\n",
    "Имеет 5 методов класса для анализа тэгов из файла tags.csv.\n",
    "\n",
    "В этом классе давайте попробуем выяснить ТОП-10 самых популярных тэгов для фильмов из нашей выборки.\n",
    "\n",
    "### most_words()\n",
    "\n",
    "Метод подсчитывает количество слов в тэге и сортирует тэги по количеству слов в порядке убывания."
   ]
  },
  {
   "cell_type": "code",
   "execution_count": 20,
   "metadata": {},
   "outputs": [
    {
     "name": "stdout",
     "output_type": "stream",
     "text": [
      "CPU times: user 2 μs, sys: 0 ns, total: 2 μs\n",
      "Wall time: 3.58 μs\n",
      "Something for everyone in this one... saw it without and plan on seeing it with kids!: 16\n",
      "the catholic church is the most corrupt organization in history: 10\n",
      "Oscar (Best Music - Original Score): 6\n",
      "Everything you want is here: 5\n",
      "based on a true story: 5\n",
      "based on a play: 4\n",
      "jay and silent bob: 4\n",
      "seen more than once: 4\n",
      "political right versus left: 4\n",
      "based on a book: 4\n"
     ]
    }
   ],
   "source": [
    "%time\n",
    "from movielens_analysis import Tags\n",
    "\n",
    "tg = Tags('./ml_latest_small/tags.csv')\n",
    "tag_most_words = tg.most_words(10)\n",
    "for key, value in tag_most_words.items():\n",
    "    print(f\"{key}: {value}\")"
   ]
  },
  {
   "cell_type": "markdown",
   "metadata": {},
   "source": [
    "### longest()\n",
    "\n",
    "Метод сортирует тэги по количеству символов в порядке убывания."
   ]
  },
  {
   "cell_type": "code",
   "execution_count": 21,
   "metadata": {},
   "outputs": [
    {
     "name": "stdout",
     "output_type": "stream",
     "text": [
      "CPU times: user 2 μs, sys: 0 ns, total: 2 μs\n",
      "Wall time: 3.58 μs\n",
      "Something for everyone in this one... saw it without and plan on seeing it with kids!\n",
      "the catholic church is the most corrupt organization in history\n",
      "audience intelligence underestimated\n",
      "Oscar (Best Music - Original Score)\n",
      "assassin-in-training (scene)\n",
      "Everything you want is here\n",
      "political right versus left\n",
      "Oscar (Best Cinematography)\n",
      "representation of children\n",
      "artificial intelligence\n"
     ]
    }
   ],
   "source": [
    "%time\n",
    "from movielens_analysis import Tags\n",
    "\n",
    "tg = Tags('./ml_latest_small/tags.csv')\n",
    "tag_longest = tg.longest(10)\n",
    "for tag in tag_longest:\n",
    "    print(tag)"
   ]
  },
  {
   "cell_type": "markdown",
   "metadata": {},
   "source": [
    "### most_words_and_longest()\n",
    "\n",
    "Метод находит тэги, одновременно попавшие в топ с наибольшим количеством слов и в топ с наибольшим количеством символов."
   ]
  },
  {
   "cell_type": "code",
   "execution_count": 22,
   "metadata": {},
   "outputs": [
    {
     "name": "stdout",
     "output_type": "stream",
     "text": [
      "CPU times: user 2 μs, sys: 0 ns, total: 2 μs\n",
      "Wall time: 3.81 μs\n",
      "Everything you want is here\n",
      "Oscar (Best Music - Original Score)\n",
      "Something for everyone in this one... saw it without and plan on seeing it with kids!\n",
      "the catholic church is the most corrupt organization in history\n",
      "political right versus left\n"
     ]
    }
   ],
   "source": [
    "%time\n",
    "from movielens_analysis import Tags\n",
    "\n",
    "tg = Tags('./ml_latest_small/tags.csv')\n",
    "tag_most_words_and_longest = tg.most_words_and_longest(10)\n",
    "for tag in tag_most_words_and_longest:\n",
    "    print(tag)"
   ]
  },
  {
   "cell_type": "markdown",
   "metadata": {},
   "source": [
    "### most_popular()\n",
    "\n",
    "Метод подсчитавает число упоминаний каждого тэга и сортирует тэги по популярности в порядке убывания."
   ]
  },
  {
   "cell_type": "code",
   "execution_count": null,
   "metadata": {},
   "outputs": [
    {
     "name": "stdout",
     "output_type": "stream",
     "text": [
      "CPU times: user 2 μs, sys: 0 ns, total: 2 μs\n",
      "Wall time: 4.29 μs\n",
      "funny: 15\n",
      "sci-fi: 14\n",
      "twist ending: 12\n",
      "dark comedy: 12\n",
      "atmospheric: 10\n",
      "superhero: 10\n",
      "comedy: 10\n",
      "action: 10\n",
      "suspense: 10\n",
      "Leonardo DiCaprio: 9\n"
     ]
    }
   ],
   "source": [
    "%time\n",
    "from movielens_analysis import Tags\n",
    "\n",
    "tg = Tags('./ml_latest_small/tags.csv')\n",
    "tag_most_pop = tg.most_popular(10)\n",
    "for key, value in tag_most_pop.items():\n",
    "    print(f\"{key}: {value}\")"
   ]
  },
  {
   "cell_type": "markdown",
   "metadata": {},
   "source": [
    "Итак, вот ТОП-10 самых популярных тэгов:\n",
    "\n",
    "* funny: 15\n",
    "* sci-fi: 14\n",
    "* twist ending: 12\n",
    "* dark comedy: 12\n",
    "* atmospheric: 10\n",
    "* superhero: 10\n",
    "* comedy: 10\n",
    "* action: 10\n",
    "* suspense: 10\n",
    "* Leonardo DiCaprio: 9\n",
    "\n",
    "Удивительно, что большинство тэгов имеют отношение к сюжетной линии, жанру или атмосфере, но среди них есть один, содержащий имя актера - Leonardo DiCaprio. Вероятно, это может означать серьезную народную любовь, если Леонардо ДиКаприо воспринимается, как целый киножанр.\n",
    "\n",
    "### tags_with()\n",
    "\n",
    "Метод находит все тэги, в которых содержится искомое слово, передаваемое в качестве аргумента. Не чувствителен к регистру."
   ]
  },
  {
   "cell_type": "code",
   "execution_count": 24,
   "metadata": {},
   "outputs": [
    {
     "name": "stdout",
     "output_type": "stream",
     "text": [
      "CPU times: user 2 μs, sys: 0 ns, total: 2 μs\n",
      "Wall time: 3.81 μs\n",
      "Comedy\n",
      "black comedy\n",
      "british comedy\n",
      "comedy\n",
      "dark comedy\n",
      "romantic comedy\n"
     ]
    }
   ],
   "source": [
    "%time\n",
    "from movielens_analysis import Tags\n",
    "\n",
    "tg = Tags('./ml_latest_small/tags.csv')\n",
    "tag_word = tg.tags_with(\"comedy\")\n",
    "for tag in tag_word:\n",
    "    print(tag)"
   ]
  },
  {
   "cell_type": "markdown",
   "metadata": {},
   "source": [
    "## Класс Links\n",
    "\n",
    "Имеет 6 методов для работы с файлом links.csv.\n",
    "\n",
    "Этот класс поможет нам выяснить, какой режиссер снял больше всего фильмов, поможет определить семерку самых дорогих фильмов, ТОП-7 самых прибыльных (сравнить их), а также узнать самые длинные фильмы и самые дорогие в пересчете на 1 минуту экранного времени.\n",
    "\n",
    "### get_imdb()\n",
    "\n",
    "В файле links.csv содержатся идентификаторы, которые можно использовать для ссылки на другие источники данных о фильмах.\n",
    "\n",
    "Метод get_imdb() осуществляет парсинг сайта http://www.imdb.com и записывает полученные данные в аргумент imdb.\n",
    "\n",
    "Атрибут класса imdb будет содержать список вложенных списков, содержащих актуальную информацию о каждом фильме, полученную с сайта http://www.imdb.com в формате [movieId, Title, Director, Budget, Cumulative Worldwide Gross, Runtime]."
   ]
  },
  {
   "cell_type": "code",
   "execution_count": null,
   "metadata": {},
   "outputs": [
    {
     "name": "stdout",
     "output_type": "stream",
     "text": [
      "CPU times: user 2 μs, sys: 0 ns, total: 2 μs\n",
      "Wall time: 5.01 μs\n",
      "Ошибка imdb: 404\n"
     ]
    }
   ],
   "source": [
    "%time\n",
    "from movielens_analysis import Links\n",
    "\n",
    "lnk = Links('./ml_latest_small/links.csv')\n",
    "for movie in lnk.imdb:\n",
    "    print(movie)"
   ]
  },
  {
   "cell_type": "markdown",
   "metadata": {},
   "source": [
    "### top_directors()\n",
    "\n",
    "Метод подсчитывает количество фильмов, снятых каждым режисером, и выполняет сортировку в порядке убывания."
   ]
  },
  {
   "cell_type": "code",
   "execution_count": null,
   "metadata": {},
   "outputs": [],
   "source": [
    "%time\n",
    "from movielens_analysis import Links\n",
    "\n",
    "lnk = Links('./ml_latest_small/links.csv')\n",
    "top_director = lnk.top_directors(7)\n",
    "for k, v in top_director.items():\n",
    "    print(f'Режисер {k}, снял {v}')"
   ]
  },
  {
   "cell_type": "markdown",
   "metadata": {},
   "source": [
    "ТОП-7 режиссеров по количеству произведенных фильмов:\n",
    "* Tony Scott: 5\n",
    "* Woody Allen: 5\n",
    "* Martin Scorsese: 5\n",
    "* Rob Reiner: 5\n",
    "* James Cameron: 5\n",
    "* Francis Ford Coppola: 4\n",
    "* Spike Lee: 4\n",
    "\n",
    "### most_expensive()\n",
    "\n",
    "Метод сортирует фильмы по размеру бюджета в порядке убывания."
   ]
  },
  {
   "cell_type": "code",
   "execution_count": null,
   "metadata": {},
   "outputs": [],
   "source": [
    "%time\n",
    "from movielens_analysis import Links\n",
    "\n",
    "lnk = Links('./ml_latest_small/links.csv')\n",
    "top_cost = lnk.most_expensive(7)\n",
    "for k, v in top_cost.items():\n",
    "    print(f'Бюджет фильма {k} составил {v}')"
   ]
  },
  {
   "cell_type": "markdown",
   "metadata": {},
   "source": [
    "ТОП-7 фильмов с самым большим бюджетом:\n",
    "\n",
    "* Waterworld: $175 000 000\n",
    "* True Lies: $115 000 000\n",
    "* Terminator 2: $102 000 000\n",
    "* The Hunchback of Notre Dame: $100 000 000\n",
    "* Eraser: $100 000 000\n",
    "* Batman Forever: $100 000 000\n",
    "* Cutthroat Island: $98 000 000\n",
    "\n",
    "### most_profitable()\n",
    "\n",
    "Метод сортирует фильмы по размеру прибыли в порядке убывания. С его помощью можно составить рейтинг самых прибыльных фильмов."
   ]
  },
  {
   "cell_type": "code",
   "execution_count": null,
   "metadata": {},
   "outputs": [],
   "source": [
    "%time\n",
    "from movielens_analysis import Links\n",
    "\n",
    "lnk = Links('./ml_latest_small/links.csv')\n",
    "top_profit = lnk.most_profitable(7)\n",
    "for k, v in top_profit.items():\n",
    "    print(f'Чистая прибыль {k} составила {v}$')"
   ]
  },
  {
   "cell_type": "markdown",
   "metadata": {},
   "source": [
    "ТОП-7 самых прибыльных фильмов:\n",
    "\n",
    "* Jurassic Park: $1 041 379 926\n",
    "* Star Wars: $449 966 382\n",
    "* Independence Day: $742 400 891\n",
    "* Forrest Gump: $623 226 465\n",
    "* Ghost: $483 703 557\n",
    "* Pretty Woman: $449 406 268\n",
    "* Indiana Jones and the Last Crusade: $426 171 806\n",
    "\n",
    "Удивительно то, что среди самых прибыльных фильмов нет ни одной ленты из ТОП-7 самых дорогих в производстве. Похоже, что большой бюджет не являтся гарантией большой прибыли.\n",
    "\n",
    "### Метод longest()\n",
    "\n",
    "Метод сортирует фильмы по продолжительности в порядке убывания. С его помощью можно составить рейтинг самых длинных фильмов."
   ]
  },
  {
   "cell_type": "code",
   "execution_count": null,
   "metadata": {},
   "outputs": [],
   "source": [
    "%time\n",
    "from movielens_analysis import Links\n",
    "\n",
    "lnk = Links('./ml_latest_small/links.csv')\n",
    "top_long = lnk.longest(7)\n",
    "for k, v in top_long.items():\n",
    "    print(f'Фильм {k} длится {v} минут')"
   ]
  },
  {
   "cell_type": "markdown",
   "metadata": {},
   "source": [
    "ТОП-7 самых длинных фильмов:\n",
    "\n",
    "* Gone with the Wind: 238\n",
    "* Once Upon a Time in America: 229\n",
    "* Ben-Hur: 212\n",
    "* The Godfather Part II: 202\n",
    "* Schindler's List: 195\n",
    "* The Right Stuff: 193\n",
    "* Nixon: 192\n",
    "\n",
    "### top_cost_per_minute()\n",
    "\n",
    "Метод сортирует фильмы по стоимости одной минуты фильма в порядке убывания. С его помощью можно составить рейтинг самых дорогостоящих фильмов в рассчете на 1 минуту."
   ]
  },
  {
   "cell_type": "code",
   "execution_count": null,
   "metadata": {},
   "outputs": [],
   "source": [
    "%time\n",
    "from movielens_analysis import Links\n",
    "\n",
    "lnk = Links('./ml_latest_small/links.csv')\n",
    "top_lg = lnk.top_cost_per_minute(7)\n",
    "for k, v in top_lg.items():\n",
    "    print(f'1 минута фильма {k} стоила {v}$')"
   ]
  },
  {
   "cell_type": "markdown",
   "metadata": {},
   "source": [
    "ТОП-7 фильмов по цене за 1 минуту времени:\n",
    "\n",
    "* Waterworld: $1 296 296.3\n",
    "* The Hunchback of Notre Dame: $1 098 901.1\n",
    "* Judge Dredd: $937 500.0\n",
    "* Space Jam: $909 090.91\n",
    "* Eraser: $869 565.22\n",
    "* Batman Forever: $826 446.28\n",
    "* True Lies: $815 602.84\n",
    "\n",
    "Как мы видим, пять из семи фильмов с самой высокой стоимостью минуты экранного времени пересекаются с пятью из семи самых дорогих фильмов. При этом, ни один из них не находится в ТОП-е по длительности. Значит, бюджет этих фильмов повышался не за счет хронометража. По всей видимости, основные затраты шли на техническую реализацию.\n",
    "\n",
    "## Инсайты\n",
    "\n",
    "К концу отчета хотелось бы отметить несколько интересных инсайтов, которые удалось сделать в процессе анализа датасета:\n",
    "\n",
    "* С каждым годом снимается все больше и больше фильмов.\n",
    "* Драма - самый популярный жанр, на втором месте - комедия.\n",
    "* Большинство производимых фильмов получают оценки средние и выше, зрители редко \"заваливают\" кино.\n",
    "* Большой бюджет фильма не гарантирует больших доходов: ТОП наиболее прибыльных и наиболее дорогих фильмов не имеет пересечений.\n",
    "* Леонардо ДиКаприо очень популярен.\n",
    "\n",
    "Ну и на последок добавлю, что выводы, сделанные в этом отчете, совсем не обязательно соответствуют действительности, потому что, судя по выводу метода `dist_users_by_num_of_ratings()`, большинство оценок, на основании которых мы делаем выводы, были проставлены тремя пользователями. То есть, выборку сложно назвать репрезентативной."
   ]
  }
 ],
 "metadata": {
  "kernelspec": {
   "display_name": "Python 3 (ipykernel)",
   "language": "python",
   "name": "python3"
  },
  "language_info": {
   "codemirror_mode": {
    "name": "ipython",
    "version": 3
   },
   "file_extension": ".py",
   "mimetype": "text/x-python",
   "name": "python",
   "nbconvert_exporter": "python",
   "pygments_lexer": "ipython3",
   "version": "3.12.3"
  }
 },
 "nbformat": 4,
 "nbformat_minor": 4
}
